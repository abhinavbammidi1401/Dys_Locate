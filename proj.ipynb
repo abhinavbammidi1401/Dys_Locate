{
 "cells": [
  {
   "cell_type": "markdown",
   "metadata": {},
   "source": [
    "# **Dys-Locate**\n",
    "### Loading the data"
   ]
  },
  {
   "cell_type": "code",
   "execution_count": 2,
   "metadata": {},
   "outputs": [],
   "source": [
    "import os\n",
    "import librosa\n",
    "import pandas as pd"
   ]
  },
  {
   "cell_type": "code",
   "execution_count": 3,
   "metadata": {},
   "outputs": [],
   "source": [
    "import warnings\n",
    "warnings.filterwarnings(\"ignore\")\n",
    "warnings.simplefilter(\"ignore\", category=FutureWarning)"
   ]
  },
  {
   "cell_type": "code",
   "execution_count": 4,
   "metadata": {},
   "outputs": [],
   "source": [
    "dataset_dir = \"D://Abhinav//Test//SPR_Project//torgo//\""
   ]
  },
  {
   "cell_type": "code",
   "execution_count": 5,
   "metadata": {},
   "outputs": [],
   "source": [
    "file_paths = []\n",
    "labels = []"
   ]
  },
  {
   "cell_type": "code",
   "execution_count": 6,
   "metadata": {},
   "outputs": [],
   "source": [
    "label_mapping = {\n",
    "    \"F_Con\": 0, # 0 for Control\n",
    "    \"M_Con\": 0,\n",
    "    \"F_Dys\": 1, # 1 for Dysarthric\n",
    "    \"M_Dys\": 1\n",
    "}"
   ]
  },
  {
   "cell_type": "code",
   "execution_count": 7,
   "metadata": {},
   "outputs": [],
   "source": [
    "for folder, label in label_mapping.items():\n",
    "    folder_path = os.path.join(dataset_dir, folder)\n",
    "    if os.path.exists(folder_path):\n",
    "        # traverse all the subdirectories\n",
    "        for subdir, _, files in os.walk(folder_path):\n",
    "            for file in files:\n",
    "                if file.lower().endswith(\".wav\"):\n",
    "                    file_paths.append(os.path.join(subdir, file))\n",
    "                    labels.append(label)"
   ]
  },
  {
   "cell_type": "code",
   "execution_count": 8,
   "metadata": {},
   "outputs": [
    {
     "name": "stdout",
     "output_type": "stream",
     "text": [
      "Found 17635 audio_files\n",
      "                                               file_path  label\n",
      "0      D://Abhinav//Test//SPR_Project//torgo//F_Con\\w...      0\n",
      "1      D://Abhinav//Test//SPR_Project//torgo//F_Con\\w...      0\n",
      "2      D://Abhinav//Test//SPR_Project//torgo//F_Con\\w...      0\n",
      "3      D://Abhinav//Test//SPR_Project//torgo//F_Con\\w...      0\n",
      "4      D://Abhinav//Test//SPR_Project//torgo//F_Con\\w...      0\n",
      "...                                                  ...    ...\n",
      "17630  D://Abhinav//Test//SPR_Project//torgo//M_Dys\\w...      1\n",
      "17631  D://Abhinav//Test//SPR_Project//torgo//M_Dys\\w...      1\n",
      "17632  D://Abhinav//Test//SPR_Project//torgo//M_Dys\\w...      1\n",
      "17633  D://Abhinav//Test//SPR_Project//torgo//M_Dys\\w...      1\n",
      "17634  D://Abhinav//Test//SPR_Project//torgo//M_Dys\\w...      1\n",
      "\n",
      "[17635 rows x 2 columns]\n"
     ]
    }
   ],
   "source": [
    "# create a dataframe for easier handling\n",
    "data = pd.DataFrame({\"file_path\": file_paths, \"label\":labels})\n",
    "print(f\"Found {len(data)} audio_files\")\n",
    "print(data)"
   ]
  },
  {
   "cell_type": "markdown",
   "metadata": {},
   "source": [
    "### Data Preprocessing"
   ]
  },
  {
   "cell_type": "code",
   "execution_count": 9,
   "metadata": {},
   "outputs": [
    {
     "name": "stdout",
     "output_type": "stream",
     "text": [
      "Error processing D://Abhinav//Test//SPR_Project//torgo//F_Con\\wav_arrayMic_FC01S01\\wav_arrayMic_FC01S01_0256.wav: zero-size array to reduction operation maximum which has no identity\n",
      "Error processing D://Abhinav//Test//SPR_Project//torgo//F_Dys\\wav_headMic_F01\\wav_headMic_F01_0067.wav: \n",
      "Error processing D://Abhinav//Test//SPR_Project//torgo//F_Dys\\wav_headMic_F01\\wav_headMic_F01_0068.wav: \n",
      "Original DataFrame length: 17635\n",
      "Processed audio length: 17635\n",
      "Data length after dropping NaN rows: 17632\n",
      "Preprocessing completed. Processed data saved.\n"
     ]
    }
   ],
   "source": [
    "import librosa\n",
    "import numpy as np\n",
    "\n",
    "def preprocess_audio(file_path, target_sr=16000):\n",
    "    \"\"\"\n",
    "    Load audio, normalize sample rate, trim silence, and normalize amplitude.\n",
    "    \"\"\"\n",
    "    try:\n",
    "        # Load audio\n",
    "        y, sr = librosa.load(file_path, sr=target_sr)\n",
    "        # Trim silence\n",
    "        y, _ = librosa.effects.trim(y)\n",
    "        # Normalize amplitude\n",
    "        y = librosa.util.normalize(y)\n",
    "        return y\n",
    "    except Exception as e:\n",
    "        print(f\"Error processing {file_path}: {e}\")\n",
    "        return None  # Return None if there is an error\n",
    "\n",
    "# Initialize a list for processed audio\n",
    "processed_audio = []\n",
    "\n",
    "# Preprocess audio files and handle errors\n",
    "for i, row in data.iterrows():\n",
    "    audio = preprocess_audio(row[\"file_path\"])\n",
    "    if audio is not None:  # Only append if the audio was successfully processed\n",
    "        processed_audio.append(audio)\n",
    "    else:\n",
    "        processed_audio.append(np.nan)  # Optionally mark this as NaN or leave it blank\n",
    "\n",
    "# Check for length mismatch\n",
    "print(f\"Original DataFrame length: {len(data)}\")\n",
    "print(f\"Processed audio length: {len(processed_audio)}\")\n",
    "\n",
    "# Optionally, remove rows where processing failed (if you marked them with NaN)\n",
    "data[\"processed_audio\"] = processed_audio\n",
    "data = data.dropna(subset=[\"processed_audio\"])  # Remove rows with NaN values\n",
    "print(f\"Data length after dropping NaN rows: {len(data)}\")\n",
    "\n",
    "# Optionally, save the DataFrame to a pickle file for future use\n",
    "data.to_pickle(\"processed_data.pkl\")\n",
    "\n",
    "print(\"Preprocessing completed. Processed data saved.\")"
   ]
  },
  {
   "cell_type": "markdown",
   "metadata": {},
   "source": [
    "### Extract MFCCs"
   ]
  },
  {
   "cell_type": "code",
   "execution_count": 10,
   "metadata": {},
   "outputs": [
    {
     "data": {
      "text/plain": [
       "Index(['file_path', 'label', 'processed_audio'], dtype='object')"
      ]
     },
     "execution_count": 10,
     "metadata": {},
     "output_type": "execute_result"
    }
   ],
   "source": [
    "data.columns"
   ]
  },
  {
   "cell_type": "code",
   "execution_count": 11,
   "metadata": {},
   "outputs": [],
   "source": [
    "from concurrent.futures import ThreadPoolExecutor\n",
    "\n",
    "def extract_mfcc(audio, sr=16000, n_mfcc=20):\n",
    "    \"\"\"Extract MFCC features from an audio signal.\"\"\"\n",
    "    if audio is None:\n",
    "        return np.nan  # Handle cases where audio is None\n",
    "    mfcc = librosa.feature.mfcc(y=audio, sr=sr, n_mfcc=n_mfcc)\n",
    "    mfcc_mean = np.mean(mfcc, axis=1)  # Take the mean for each coefficient\n",
    "    return mfcc_mean\n",
    "\n",
    "def process_row(row):\n",
    "    \"\"\"Helper function to process a single row of the DataFrame.\"\"\"\n",
    "    audio = row['processed_audio']\n",
    "    return extract_mfcc(audio)\n",
    "\n",
    "# Use ThreadPoolExecutor for parallel processing\n",
    "def parallel_mfcc_extraction(data, n_mfcc=20, max_workers=4):\n",
    "    \"\"\"Extract MFCC features in parallel for a DataFrame.\"\"\"\n",
    "    with ThreadPoolExecutor(max_workers=max_workers) as executor:\n",
    "        # Map each row to the process_row function\n",
    "        results = list(executor.map(process_row, [row for _, row in data.iterrows()]))\n",
    "        \n",
    "    data['mfcc_features'] = results\n",
    "    return data\n",
    "\n",
    "\n",
    "data = parallel_mfcc_extraction(data, n_mfcc=20, max_workers=4)"
   ]
  },
  {
   "cell_type": "code",
   "execution_count": 12,
   "metadata": {},
   "outputs": [],
   "source": [
    "# Define the number of files to select per class\n",
    "#max_files_per_class = 50  # Adjust as needed\n",
    "\n",
    "# Group by 'label' and sample 'max_files_per_class' from each group\n",
    "#limited_data = data.groupby('label').apply(lambda x: x.sample(min(len(x), max_files_per_class))).reset_index(drop=True)\n",
    "\n",
    "# Perform parallel MFCC extraction on the balanced subset\n",
    "#limited_data = parallel_mfcc_extraction(limited_data, n_mfcc=13, max_workers=4)\n",
    "\n",
    "# Update the original DataFrame with the processed subset\n",
    "#data.loc[limited_data.index, 'mfcc_features'] = limited_data['mfcc_features']\n"
   ]
  },
  {
   "cell_type": "code",
   "execution_count": 13,
   "metadata": {},
   "outputs": [
    {
     "data": {
      "text/html": [
       "<div>\n",
       "<style scoped>\n",
       "    .dataframe tbody tr th:only-of-type {\n",
       "        vertical-align: middle;\n",
       "    }\n",
       "\n",
       "    .dataframe tbody tr th {\n",
       "        vertical-align: top;\n",
       "    }\n",
       "\n",
       "    .dataframe thead th {\n",
       "        text-align: right;\n",
       "    }\n",
       "</style>\n",
       "<table border=\"1\" class=\"dataframe\">\n",
       "  <thead>\n",
       "    <tr style=\"text-align: right;\">\n",
       "      <th></th>\n",
       "      <th>file_path</th>\n",
       "      <th>label</th>\n",
       "      <th>processed_audio</th>\n",
       "      <th>mfcc_features</th>\n",
       "    </tr>\n",
       "  </thead>\n",
       "  <tbody>\n",
       "    <tr>\n",
       "      <th>0</th>\n",
       "      <td>D://Abhinav//Test//SPR_Project//torgo//F_Con\\w...</td>\n",
       "      <td>0</td>\n",
       "      <td>[0.0, 0.0, 0.0, 0.0, -6.0295446e-05, 0.0, 0.0,...</td>\n",
       "      <td>[-253.71657, 31.162016, 2.9564877, 9.534509, 1...</td>\n",
       "    </tr>\n",
       "    <tr>\n",
       "      <th>1</th>\n",
       "      <td>D://Abhinav//Test//SPR_Project//torgo//F_Con\\w...</td>\n",
       "      <td>0</td>\n",
       "      <td>[0.053145338, 0.067425884, 0.018197156, 0.0009...</td>\n",
       "      <td>[-234.1454, 41.158607, -7.435175, 7.7617, 17.3...</td>\n",
       "    </tr>\n",
       "    <tr>\n",
       "      <th>2</th>\n",
       "      <td>D://Abhinav//Test//SPR_Project//torgo//F_Con\\w...</td>\n",
       "      <td>0</td>\n",
       "      <td>[-0.42146754, -0.8386901, -0.38872042, -0.1164...</td>\n",
       "      <td>[-126.86522, -9.7403, 35.861446, -1.6804035, 1...</td>\n",
       "    </tr>\n",
       "    <tr>\n",
       "      <th>3</th>\n",
       "      <td>D://Abhinav//Test//SPR_Project//torgo//F_Con\\w...</td>\n",
       "      <td>0</td>\n",
       "      <td>[-0.0037484886, 0.007859734, 0.019226119, 0.02...</td>\n",
       "      <td>[-152.81413, 60.211166, 10.757963, 16.713995, ...</td>\n",
       "    </tr>\n",
       "    <tr>\n",
       "      <th>4</th>\n",
       "      <td>D://Abhinav//Test//SPR_Project//torgo//F_Con\\w...</td>\n",
       "      <td>0</td>\n",
       "      <td>[-0.024456188, -0.047314737, -0.03809758, -0.0...</td>\n",
       "      <td>[-248.52745, 5.1236978, 19.085815, -4.6721597,...</td>\n",
       "    </tr>\n",
       "  </tbody>\n",
       "</table>\n",
       "</div>"
      ],
      "text/plain": [
       "                                           file_path  label  \\\n",
       "0  D://Abhinav//Test//SPR_Project//torgo//F_Con\\w...      0   \n",
       "1  D://Abhinav//Test//SPR_Project//torgo//F_Con\\w...      0   \n",
       "2  D://Abhinav//Test//SPR_Project//torgo//F_Con\\w...      0   \n",
       "3  D://Abhinav//Test//SPR_Project//torgo//F_Con\\w...      0   \n",
       "4  D://Abhinav//Test//SPR_Project//torgo//F_Con\\w...      0   \n",
       "\n",
       "                                     processed_audio  \\\n",
       "0  [0.0, 0.0, 0.0, 0.0, -6.0295446e-05, 0.0, 0.0,...   \n",
       "1  [0.053145338, 0.067425884, 0.018197156, 0.0009...   \n",
       "2  [-0.42146754, -0.8386901, -0.38872042, -0.1164...   \n",
       "3  [-0.0037484886, 0.007859734, 0.019226119, 0.02...   \n",
       "4  [-0.024456188, -0.047314737, -0.03809758, -0.0...   \n",
       "\n",
       "                                       mfcc_features  \n",
       "0  [-253.71657, 31.162016, 2.9564877, 9.534509, 1...  \n",
       "1  [-234.1454, 41.158607, -7.435175, 7.7617, 17.3...  \n",
       "2  [-126.86522, -9.7403, 35.861446, -1.6804035, 1...  \n",
       "3  [-152.81413, 60.211166, 10.757963, 16.713995, ...  \n",
       "4  [-248.52745, 5.1236978, 19.085815, -4.6721597,...  "
      ]
     },
     "execution_count": 13,
     "metadata": {},
     "output_type": "execute_result"
    }
   ],
   "source": [
    "data.head()"
   ]
  },
  {
   "cell_type": "markdown",
   "metadata": {},
   "source": [
    "### Prpare data for Model Training"
   ]
  },
  {
   "cell_type": "code",
   "execution_count": 14,
   "metadata": {},
   "outputs": [
    {
     "name": "stdout",
     "output_type": "stream",
     "text": [
      "Training set size: (14105, 4)\n",
      "Testing set size: (3527, 4)\n"
     ]
    }
   ],
   "source": [
    "from sklearn.model_selection import train_test_split\n",
    "\n",
    "# Split the data into features (X) and labels (y)\n",
    "X = data['mfcc_features']\n",
    "y = data['label'] # Labels for classification\n",
    "\n",
    "# Split the data into training and testing sets (80% for training, 20% for testing)\n",
    "X_train, X_test, y_train, y_test = train_test_split(X, y, test_size=0.2, random_state=14)\n",
    "\n",
    "# If we need to rejoin X_train, X_test with their corresponding 'file_path' or 'processed_audio' columns\n",
    "train_data = data.loc[X_train.index]\n",
    "test_data = data.loc[X_test.index]\n",
    "\n",
    "# Display the split data\n",
    "print(f'Training set size: {train_data.shape}')\n",
    "print(f'Testing set size: {test_data.shape}')"
   ]
  },
  {
   "cell_type": "code",
   "execution_count": 15,
   "metadata": {},
   "outputs": [
    {
     "name": "stdout",
     "output_type": "stream",
     "text": [
      "Normalized training data shape: (14105, 20)\n",
      "Normalized testing data shape: (3527, 20)\n"
     ]
    }
   ],
   "source": [
    "from sklearn.preprocessing import StandardScaler\n",
    "\n",
    "scaler = StandardScaler()\n",
    "X_train_normalized = scaler.fit_transform(np.vstack(X_train))\n",
    "X_test_normalized = scaler.transform(np.vstack(X_test))\n",
    "\n",
    "print(f\"Normalized training data shape: {X_train_normalized.shape}\")\n",
    "print(f\"Normalized testing data shape: {X_test_normalized.shape}\")"
   ]
  },
  {
   "cell_type": "markdown",
   "metadata": {},
   "source": [
    "### Prepare labels"
   ]
  },
  {
   "cell_type": "code",
   "execution_count": 16,
   "metadata": {},
   "outputs": [
    {
     "name": "stdout",
     "output_type": "stream",
     "text": [
      "Encoded training labels shape: (14105, 2)\n",
      "Encoded testing labels shape: (3527, 2)\n"
     ]
    }
   ],
   "source": [
    "import tensorflow\n",
    "\n",
    "num_classes = len(np.unique(y_train))\n",
    "y_train_encoded = tensorflow.keras.utils.to_categorical(y_train, num_classes)\n",
    "y_test_encoded = tensorflow.keras.utils.to_categorical(y_test, num_classes)\n",
    "\n",
    "print(f\"Encoded training labels shape: {y_train_encoded.shape}\")\n",
    "print(f\"Encoded testing labels shape: {y_test_encoded.shape}\")"
   ]
  },
  {
   "cell_type": "markdown",
   "metadata": {},
   "source": [
    "### Build a fully connected network"
   ]
  },
  {
   "cell_type": "code",
   "execution_count": 17,
   "metadata": {},
   "outputs": [],
   "source": [
    "from keras.models import Sequential\n",
    "from keras.layers import Dense, Dropout"
   ]
  },
  {
   "cell_type": "code",
   "execution_count": 18,
   "metadata": {},
   "outputs": [
    {
     "data": {
      "text/html": [
       "<pre style=\"white-space:pre;overflow-x:auto;line-height:normal;font-family:Menlo,'DejaVu Sans Mono',consolas,'Courier New',monospace\"><span style=\"font-weight: bold\">Model: \"sequential\"</span>\n",
       "</pre>\n"
      ],
      "text/plain": [
       "\u001b[1mModel: \"sequential\"\u001b[0m\n"
      ]
     },
     "metadata": {},
     "output_type": "display_data"
    },
    {
     "data": {
      "text/html": [
       "<pre style=\"white-space:pre;overflow-x:auto;line-height:normal;font-family:Menlo,'DejaVu Sans Mono',consolas,'Courier New',monospace\">┏━━━━━━━━━━━━━━━━━━━━━━━━━━━━━━━━━┳━━━━━━━━━━━━━━━━━━━━━━━━┳━━━━━━━━━━━━━━━┓\n",
       "┃<span style=\"font-weight: bold\"> Layer (type)                    </span>┃<span style=\"font-weight: bold\"> Output Shape           </span>┃<span style=\"font-weight: bold\">       Param # </span>┃\n",
       "┡━━━━━━━━━━━━━━━━━━━━━━━━━━━━━━━━━╇━━━━━━━━━━━━━━━━━━━━━━━━╇━━━━━━━━━━━━━━━┩\n",
       "│ dense (<span style=\"color: #0087ff; text-decoration-color: #0087ff\">Dense</span>)                   │ (<span style=\"color: #00d7ff; text-decoration-color: #00d7ff\">None</span>, <span style=\"color: #00af00; text-decoration-color: #00af00\">64</span>)             │         <span style=\"color: #00af00; text-decoration-color: #00af00\">1,344</span> │\n",
       "├─────────────────────────────────┼────────────────────────┼───────────────┤\n",
       "│ dropout (<span style=\"color: #0087ff; text-decoration-color: #0087ff\">Dropout</span>)               │ (<span style=\"color: #00d7ff; text-decoration-color: #00d7ff\">None</span>, <span style=\"color: #00af00; text-decoration-color: #00af00\">64</span>)             │             <span style=\"color: #00af00; text-decoration-color: #00af00\">0</span> │\n",
       "├─────────────────────────────────┼────────────────────────┼───────────────┤\n",
       "│ dense_1 (<span style=\"color: #0087ff; text-decoration-color: #0087ff\">Dense</span>)                 │ (<span style=\"color: #00d7ff; text-decoration-color: #00d7ff\">None</span>, <span style=\"color: #00af00; text-decoration-color: #00af00\">32</span>)             │         <span style=\"color: #00af00; text-decoration-color: #00af00\">2,080</span> │\n",
       "├─────────────────────────────────┼────────────────────────┼───────────────┤\n",
       "│ dropout_1 (<span style=\"color: #0087ff; text-decoration-color: #0087ff\">Dropout</span>)             │ (<span style=\"color: #00d7ff; text-decoration-color: #00d7ff\">None</span>, <span style=\"color: #00af00; text-decoration-color: #00af00\">32</span>)             │             <span style=\"color: #00af00; text-decoration-color: #00af00\">0</span> │\n",
       "├─────────────────────────────────┼────────────────────────┼───────────────┤\n",
       "│ dense_2 (<span style=\"color: #0087ff; text-decoration-color: #0087ff\">Dense</span>)                 │ (<span style=\"color: #00d7ff; text-decoration-color: #00d7ff\">None</span>, <span style=\"color: #00af00; text-decoration-color: #00af00\">2</span>)              │            <span style=\"color: #00af00; text-decoration-color: #00af00\">66</span> │\n",
       "└─────────────────────────────────┴────────────────────────┴───────────────┘\n",
       "</pre>\n"
      ],
      "text/plain": [
       "┏━━━━━━━━━━━━━━━━━━━━━━━━━━━━━━━━━┳━━━━━━━━━━━━━━━━━━━━━━━━┳━━━━━━━━━━━━━━━┓\n",
       "┃\u001b[1m \u001b[0m\u001b[1mLayer (type)                   \u001b[0m\u001b[1m \u001b[0m┃\u001b[1m \u001b[0m\u001b[1mOutput Shape          \u001b[0m\u001b[1m \u001b[0m┃\u001b[1m \u001b[0m\u001b[1m      Param #\u001b[0m\u001b[1m \u001b[0m┃\n",
       "┡━━━━━━━━━━━━━━━━━━━━━━━━━━━━━━━━━╇━━━━━━━━━━━━━━━━━━━━━━━━╇━━━━━━━━━━━━━━━┩\n",
       "│ dense (\u001b[38;5;33mDense\u001b[0m)                   │ (\u001b[38;5;45mNone\u001b[0m, \u001b[38;5;34m64\u001b[0m)             │         \u001b[38;5;34m1,344\u001b[0m │\n",
       "├─────────────────────────────────┼────────────────────────┼───────────────┤\n",
       "│ dropout (\u001b[38;5;33mDropout\u001b[0m)               │ (\u001b[38;5;45mNone\u001b[0m, \u001b[38;5;34m64\u001b[0m)             │             \u001b[38;5;34m0\u001b[0m │\n",
       "├─────────────────────────────────┼────────────────────────┼───────────────┤\n",
       "│ dense_1 (\u001b[38;5;33mDense\u001b[0m)                 │ (\u001b[38;5;45mNone\u001b[0m, \u001b[38;5;34m32\u001b[0m)             │         \u001b[38;5;34m2,080\u001b[0m │\n",
       "├─────────────────────────────────┼────────────────────────┼───────────────┤\n",
       "│ dropout_1 (\u001b[38;5;33mDropout\u001b[0m)             │ (\u001b[38;5;45mNone\u001b[0m, \u001b[38;5;34m32\u001b[0m)             │             \u001b[38;5;34m0\u001b[0m │\n",
       "├─────────────────────────────────┼────────────────────────┼───────────────┤\n",
       "│ dense_2 (\u001b[38;5;33mDense\u001b[0m)                 │ (\u001b[38;5;45mNone\u001b[0m, \u001b[38;5;34m2\u001b[0m)              │            \u001b[38;5;34m66\u001b[0m │\n",
       "└─────────────────────────────────┴────────────────────────┴───────────────┘\n"
      ]
     },
     "metadata": {},
     "output_type": "display_data"
    },
    {
     "data": {
      "text/html": [
       "<pre style=\"white-space:pre;overflow-x:auto;line-height:normal;font-family:Menlo,'DejaVu Sans Mono',consolas,'Courier New',monospace\"><span style=\"font-weight: bold\"> Total params: </span><span style=\"color: #00af00; text-decoration-color: #00af00\">3,490</span> (13.63 KB)\n",
       "</pre>\n"
      ],
      "text/plain": [
       "\u001b[1m Total params: \u001b[0m\u001b[38;5;34m3,490\u001b[0m (13.63 KB)\n"
      ]
     },
     "metadata": {},
     "output_type": "display_data"
    },
    {
     "data": {
      "text/html": [
       "<pre style=\"white-space:pre;overflow-x:auto;line-height:normal;font-family:Menlo,'DejaVu Sans Mono',consolas,'Courier New',monospace\"><span style=\"font-weight: bold\"> Trainable params: </span><span style=\"color: #00af00; text-decoration-color: #00af00\">3,490</span> (13.63 KB)\n",
       "</pre>\n"
      ],
      "text/plain": [
       "\u001b[1m Trainable params: \u001b[0m\u001b[38;5;34m3,490\u001b[0m (13.63 KB)\n"
      ]
     },
     "metadata": {},
     "output_type": "display_data"
    },
    {
     "data": {
      "text/html": [
       "<pre style=\"white-space:pre;overflow-x:auto;line-height:normal;font-family:Menlo,'DejaVu Sans Mono',consolas,'Courier New',monospace\"><span style=\"font-weight: bold\"> Non-trainable params: </span><span style=\"color: #00af00; text-decoration-color: #00af00\">0</span> (0.00 B)\n",
       "</pre>\n"
      ],
      "text/plain": [
       "\u001b[1m Non-trainable params: \u001b[0m\u001b[38;5;34m0\u001b[0m (0.00 B)\n"
      ]
     },
     "metadata": {},
     "output_type": "display_data"
    }
   ],
   "source": [
    "# Define the model\n",
    "model = Sequential([\n",
    "    Dense(64, input_shape=(20,), activation='relu'),  # Input layer\n",
    "    Dropout(0.3),                                    # Regularization\n",
    "    Dense(32, activation='relu'),                    # Hidden layer\n",
    "    Dropout(0.3),\n",
    "    Dense(num_classes, activation='softmax')         # Output layer\n",
    "])\n",
    "\n",
    "# Compile the model\n",
    "model.compile(optimizer='adam',\n",
    "              loss='categorical_crossentropy',\n",
    "              metrics=['accuracy'])\n",
    "\n",
    "# Print model summary\n",
    "model.summary()"
   ]
  },
  {
   "cell_type": "markdown",
   "metadata": {},
   "source": [
    "### Train model"
   ]
  },
  {
   "cell_type": "code",
   "execution_count": 19,
   "metadata": {},
   "outputs": [
    {
     "name": "stdout",
     "output_type": "stream",
     "text": [
      "Epoch 1/20\n",
      "\u001b[1m441/441\u001b[0m \u001b[32m━━━━━━━━━━━━━━━━━━━━\u001b[0m\u001b[37m\u001b[0m \u001b[1m4s\u001b[0m 4ms/step - accuracy: 0.6986 - loss: 0.5810 - val_accuracy: 0.8330 - val_loss: 0.3904\n",
      "Epoch 2/20\n",
      "\u001b[1m441/441\u001b[0m \u001b[32m━━━━━━━━━━━━━━━━━━━━\u001b[0m\u001b[37m\u001b[0m \u001b[1m1s\u001b[0m 3ms/step - accuracy: 0.8206 - loss: 0.4138 - val_accuracy: 0.8735 - val_loss: 0.3202\n",
      "Epoch 3/20\n",
      "\u001b[1m441/441\u001b[0m \u001b[32m━━━━━━━━━━━━━━━━━━━━\u001b[0m\u001b[37m\u001b[0m \u001b[1m1s\u001b[0m 3ms/step - accuracy: 0.8480 - loss: 0.3623 - val_accuracy: 0.8869 - val_loss: 0.2864\n",
      "Epoch 4/20\n",
      "\u001b[1m441/441\u001b[0m \u001b[32m━━━━━━━━━━━━━━━━━━━━\u001b[0m\u001b[37m\u001b[0m \u001b[1m2s\u001b[0m 4ms/step - accuracy: 0.8681 - loss: 0.3372 - val_accuracy: 0.8942 - val_loss: 0.2667\n",
      "Epoch 5/20\n",
      "\u001b[1m441/441\u001b[0m \u001b[32m━━━━━━━━━━━━━━━━━━━━\u001b[0m\u001b[37m\u001b[0m \u001b[1m2s\u001b[0m 4ms/step - accuracy: 0.8809 - loss: 0.2919 - val_accuracy: 0.9067 - val_loss: 0.2497\n",
      "Epoch 6/20\n",
      "\u001b[1m441/441\u001b[0m \u001b[32m━━━━━━━━━━━━━━━━━━━━\u001b[0m\u001b[37m\u001b[0m \u001b[1m1s\u001b[0m 3ms/step - accuracy: 0.8841 - loss: 0.2846 - val_accuracy: 0.9084 - val_loss: 0.2303\n",
      "Epoch 7/20\n",
      "\u001b[1m441/441\u001b[0m \u001b[32m━━━━━━━━━━━━━━━━━━━━\u001b[0m\u001b[37m\u001b[0m \u001b[1m1s\u001b[0m 3ms/step - accuracy: 0.8919 - loss: 0.2774 - val_accuracy: 0.9132 - val_loss: 0.2208\n",
      "Epoch 8/20\n",
      "\u001b[1m441/441\u001b[0m \u001b[32m━━━━━━━━━━━━━━━━━━━━\u001b[0m\u001b[37m\u001b[0m \u001b[1m1s\u001b[0m 3ms/step - accuracy: 0.9018 - loss: 0.2528 - val_accuracy: 0.9195 - val_loss: 0.2091\n",
      "Epoch 9/20\n",
      "\u001b[1m441/441\u001b[0m \u001b[32m━━━━━━━━━━━━━━━━━━━━\u001b[0m\u001b[37m\u001b[0m \u001b[1m1s\u001b[0m 3ms/step - accuracy: 0.9033 - loss: 0.2460 - val_accuracy: 0.9271 - val_loss: 0.2026\n",
      "Epoch 10/20\n",
      "\u001b[1m441/441\u001b[0m \u001b[32m━━━━━━━━━━━━━━━━━━━━\u001b[0m\u001b[37m\u001b[0m \u001b[1m1s\u001b[0m 2ms/step - accuracy: 0.9056 - loss: 0.2411 - val_accuracy: 0.9223 - val_loss: 0.1963\n",
      "Epoch 11/20\n",
      "\u001b[1m441/441\u001b[0m \u001b[32m━━━━━━━━━━━━━━━━━━━━\u001b[0m\u001b[37m\u001b[0m \u001b[1m1s\u001b[0m 3ms/step - accuracy: 0.9127 - loss: 0.2277 - val_accuracy: 0.9263 - val_loss: 0.1957\n",
      "Epoch 12/20\n",
      "\u001b[1m441/441\u001b[0m \u001b[32m━━━━━━━━━━━━━━━━━━━━\u001b[0m\u001b[37m\u001b[0m \u001b[1m1s\u001b[0m 2ms/step - accuracy: 0.9113 - loss: 0.2308 - val_accuracy: 0.9274 - val_loss: 0.1868\n",
      "Epoch 13/20\n",
      "\u001b[1m441/441\u001b[0m \u001b[32m━━━━━━━━━━━━━━━━━━━━\u001b[0m\u001b[37m\u001b[0m \u001b[1m1s\u001b[0m 2ms/step - accuracy: 0.9171 - loss: 0.2189 - val_accuracy: 0.9305 - val_loss: 0.1830\n",
      "Epoch 14/20\n",
      "\u001b[1m441/441\u001b[0m \u001b[32m━━━━━━━━━━━━━━━━━━━━\u001b[0m\u001b[37m\u001b[0m \u001b[1m2s\u001b[0m 3ms/step - accuracy: 0.9166 - loss: 0.2188 - val_accuracy: 0.9294 - val_loss: 0.1782\n",
      "Epoch 15/20\n",
      "\u001b[1m441/441\u001b[0m \u001b[32m━━━━━━━━━━━━━━━━━━━━\u001b[0m\u001b[37m\u001b[0m \u001b[1m1s\u001b[0m 3ms/step - accuracy: 0.9164 - loss: 0.2075 - val_accuracy: 0.9322 - val_loss: 0.1726\n",
      "Epoch 16/20\n",
      "\u001b[1m441/441\u001b[0m \u001b[32m━━━━━━━━━━━━━━━━━━━━\u001b[0m\u001b[37m\u001b[0m \u001b[1m1s\u001b[0m 3ms/step - accuracy: 0.9144 - loss: 0.2167 - val_accuracy: 0.9320 - val_loss: 0.1750\n",
      "Epoch 17/20\n",
      "\u001b[1m441/441\u001b[0m \u001b[32m━━━━━━━━━━━━━━━━━━━━\u001b[0m\u001b[37m\u001b[0m \u001b[1m2s\u001b[0m 3ms/step - accuracy: 0.9194 - loss: 0.2044 - val_accuracy: 0.9356 - val_loss: 0.1698\n",
      "Epoch 18/20\n",
      "\u001b[1m441/441\u001b[0m \u001b[32m━━━━━━━━━━━━━━━━━━━━\u001b[0m\u001b[37m\u001b[0m \u001b[1m1s\u001b[0m 2ms/step - accuracy: 0.9240 - loss: 0.1971 - val_accuracy: 0.9351 - val_loss: 0.1756\n",
      "Epoch 19/20\n",
      "\u001b[1m441/441\u001b[0m \u001b[32m━━━━━━━━━━━━━━━━━━━━\u001b[0m\u001b[37m\u001b[0m \u001b[1m1s\u001b[0m 2ms/step - accuracy: 0.9228 - loss: 0.1959 - val_accuracy: 0.9345 - val_loss: 0.1711\n",
      "Epoch 20/20\n",
      "\u001b[1m441/441\u001b[0m \u001b[32m━━━━━━━━━━━━━━━━━━━━\u001b[0m\u001b[37m\u001b[0m \u001b[1m2s\u001b[0m 3ms/step - accuracy: 0.9231 - loss: 0.2014 - val_accuracy: 0.9351 - val_loss: 0.1674\n"
     ]
    }
   ],
   "source": [
    "# Train the model\n",
    "history = model.fit(\n",
    "    X_train_normalized, y_train_encoded,\n",
    "    validation_data=(X_test_normalized, y_test_encoded),\n",
    "    epochs=20, batch_size=32, verbose=1\n",
    ")"
   ]
  },
  {
   "cell_type": "markdown",
   "metadata": {},
   "source": [
    "### Evaluate the Model"
   ]
  },
  {
   "cell_type": "code",
   "execution_count": 20,
   "metadata": {},
   "outputs": [
    {
     "name": "stdout",
     "output_type": "stream",
     "text": [
      "\u001b[1m 58/111\u001b[0m \u001b[32m━━━━━━━━━━\u001b[0m\u001b[37m━━━━━━━━━━\u001b[0m \u001b[1m0s\u001b[0m 2ms/step - accuracy: 0.9294 - loss: 0.1840"
     ]
    },
    {
     "name": "stdout",
     "output_type": "stream",
     "text": [
      "\u001b[1m111/111\u001b[0m \u001b[32m━━━━━━━━━━━━━━━━━━━━\u001b[0m\u001b[37m\u001b[0m \u001b[1m0s\u001b[0m 2ms/step - accuracy: 0.9316 - loss: 0.1780\n",
      "Test Loss: 0.16741502285003662\n",
      "Test Accuracy: 0.9350723028182983\n"
     ]
    }
   ],
   "source": [
    "# Evaluate the model\n",
    "test_loss, test_accuracy = model.evaluate(X_test_normalized, y_test_encoded, verbose=1)\n",
    "print(f\"Test Loss: {test_loss}\")\n",
    "print(f\"Test Accuracy: {test_accuracy}\")"
   ]
  },
  {
   "cell_type": "markdown",
   "metadata": {},
   "source": [
    "### Analyze the Results"
   ]
  },
  {
   "cell_type": "code",
   "execution_count": 21,
   "metadata": {},
   "outputs": [
    {
     "name": "stdout",
     "output_type": "stream",
     "text": [
      "\u001b[1m111/111\u001b[0m \u001b[32m━━━━━━━━━━━━━━━━━━━━\u001b[0m\u001b[37m\u001b[0m \u001b[1m0s\u001b[0m 2ms/step\n"
     ]
    },
    {
     "data": {
      "image/png": "[encoded data removed]",
      "text/plain": [
       "<Figure size 800x600 with 2 Axes>"
      ]
     },
     "metadata": {},
     "output_type": "display_data"
    },
    {
     "name": "stdout",
     "output_type": "stream",
     "text": [
      "              precision    recall  f1-score   support\n",
      "\n",
      "           0       0.94      0.97      0.95      2303\n",
      "           1       0.93      0.88      0.90      1224\n",
      "\n",
      "    accuracy                           0.94      3527\n",
      "   macro avg       0.93      0.92      0.93      3527\n",
      "weighted avg       0.93      0.94      0.93      3527\n",
      "\n"
     ]
    }
   ],
   "source": [
    "from sklearn.metrics import confusion_matrix, classification_report\n",
    "import seaborn as sns\n",
    "import matplotlib.pyplot as plt\n",
    "\n",
    "# Get predictions\n",
    "y_pred = model.predict(X_test_normalized)\n",
    "y_pred_classes = np.argmax(y_pred, axis=1)\n",
    "y_true_classes = np.argmax(y_test_encoded, axis=1)\n",
    "\n",
    "# Confusion matrix\n",
    "cm = confusion_matrix(y_true_classes, y_pred_classes)\n",
    "plt.figure(figsize=(8, 6))\n",
    "sns.heatmap(cm, annot=True, fmt='d', cmap='Blues')\n",
    "plt.xlabel('Predicted')\n",
    "plt.ylabel('True')\n",
    "plt.title('Confusion Matrix')\n",
    "plt.show()\n",
    "\n",
    "# Classification report\n",
    "print(classification_report(y_true_classes, y_pred_classes))"
   ]
  },
  {
   "cell_type": "markdown",
   "metadata": {},
   "source": [
    "### Understanding the Confusion Matrix\n",
    "- **True Negatives (TN) - Top-left `(2252)`**: These are samples that were correctly classified as class 0 (negative class).\n",
    "\n",
    "- **False Positives (FP) - Top-right `(51)`**: These are samples that were actually class 0 but were incorrectly predicted as class 1.\n",
    "\n",
    "- **False Negatives (FN) - Bottom-left `(185)`**: These are samples that were actually class 1 but were incorrectly predicted as class 0.\n",
    "\n",
    "- **True Positives (TP) - Bottom-right `(1039)`**: These are samples that were correctly classified as class 1 (positive class)."
   ]
  },
  {
   "cell_type": "markdown",
   "metadata": {},
   "source": [
    "# Check for Overfitting"
   ]
  },
  {
   "cell_type": "code",
   "execution_count": 22,
   "metadata": {},
   "outputs": [
    {
     "name": "stdout",
     "output_type": "stream",
     "text": [
      "Epoch 1/50\n",
      "\u001b[1m441/441\u001b[0m \u001b[32m━━━━━━━━━━━━━━━━━━━━\u001b[0m\u001b[37m\u001b[0m \u001b[1m1s\u001b[0m 3ms/step - accuracy: 0.9240 - loss: 0.1978 - val_accuracy: 0.9325 - val_loss: 0.1656\n",
      "Epoch 2/50\n",
      "\u001b[1m441/441\u001b[0m \u001b[32m━━━━━━━━━━━━━━━━━━━━\u001b[0m\u001b[37m\u001b[0m \u001b[1m1s\u001b[0m 3ms/step - accuracy: 0.9253 - loss: 0.1934 - val_accuracy: 0.9359 - val_loss: 0.1645\n",
      "Epoch 3/50\n",
      "\u001b[1m441/441\u001b[0m \u001b[32m━━━━━━━━━━━━━━━━━━━━\u001b[0m\u001b[37m\u001b[0m \u001b[1m1s\u001b[0m 2ms/step - accuracy: 0.9238 - loss: 0.1850 - val_accuracy: 0.9345 - val_loss: 0.1582\n",
      "Epoch 4/50\n",
      "\u001b[1m441/441\u001b[0m \u001b[32m━━━━━━━━━━━━━━━━━━━━\u001b[0m\u001b[37m\u001b[0m \u001b[1m1s\u001b[0m 2ms/step - accuracy: 0.9301 - loss: 0.1800 - val_accuracy: 0.9356 - val_loss: 0.1566\n",
      "Epoch 5/50\n",
      "\u001b[1m441/441\u001b[0m \u001b[32m━━━━━━━━━━━━━━━━━━━━\u001b[0m\u001b[37m\u001b[0m \u001b[1m1s\u001b[0m 3ms/step - accuracy: 0.9315 - loss: 0.1879 - val_accuracy: 0.9427 - val_loss: 0.1560\n",
      "Epoch 6/50\n",
      "\u001b[1m441/441\u001b[0m \u001b[32m━━━━━━━━━━━━━━━━━━━━\u001b[0m\u001b[37m\u001b[0m \u001b[1m1s\u001b[0m 3ms/step - accuracy: 0.9299 - loss: 0.1778 - val_accuracy: 0.9390 - val_loss: 0.1603\n",
      "Epoch 7/50\n",
      "\u001b[1m441/441\u001b[0m \u001b[32m━━━━━━━━━━━━━━━━━━━━\u001b[0m\u001b[37m\u001b[0m \u001b[1m1s\u001b[0m 3ms/step - accuracy: 0.9292 - loss: 0.1796 - val_accuracy: 0.9368 - val_loss: 0.1570\n",
      "Epoch 8/50\n",
      "\u001b[1m441/441\u001b[0m \u001b[32m━━━━━━━━━━━━━━━━━━━━\u001b[0m\u001b[37m\u001b[0m \u001b[1m1s\u001b[0m 3ms/step - accuracy: 0.9323 - loss: 0.1791 - val_accuracy: 0.9396 - val_loss: 0.1541\n",
      "Epoch 9/50\n",
      "\u001b[1m441/441\u001b[0m \u001b[32m━━━━━━━━━━━━━━━━━━━━\u001b[0m\u001b[37m\u001b[0m \u001b[1m1s\u001b[0m 2ms/step - accuracy: 0.9320 - loss: 0.1856 - val_accuracy: 0.9379 - val_loss: 0.1525\n",
      "Epoch 10/50\n",
      "\u001b[1m441/441\u001b[0m \u001b[32m━━━━━━━━━━━━━━━━━━━━\u001b[0m\u001b[37m\u001b[0m \u001b[1m1s\u001b[0m 2ms/step - accuracy: 0.9304 - loss: 0.1846 - val_accuracy: 0.9382 - val_loss: 0.1510\n",
      "Epoch 11/50\n",
      "\u001b[1m441/441\u001b[0m \u001b[32m━━━━━━━━━━━━━━━━━━━━\u001b[0m\u001b[37m\u001b[0m \u001b[1m1s\u001b[0m 3ms/step - accuracy: 0.9315 - loss: 0.1765 - val_accuracy: 0.9365 - val_loss: 0.1527\n",
      "Epoch 12/50\n",
      "\u001b[1m441/441\u001b[0m \u001b[32m━━━━━━━━━━━━━━━━━━━━\u001b[0m\u001b[37m\u001b[0m \u001b[1m1s\u001b[0m 2ms/step - accuracy: 0.9331 - loss: 0.1742 - val_accuracy: 0.9379 - val_loss: 0.1533\n",
      "Epoch 13/50\n",
      "\u001b[1m441/441\u001b[0m \u001b[32m━━━━━━━━━━━━━━━━━━━━\u001b[0m\u001b[37m\u001b[0m \u001b[1m1s\u001b[0m 3ms/step - accuracy: 0.9336 - loss: 0.1746 - val_accuracy: 0.9393 - val_loss: 0.1533\n",
      "Epoch 14/50\n",
      "\u001b[1m441/441\u001b[0m \u001b[32m━━━━━━━━━━━━━━━━━━━━\u001b[0m\u001b[37m\u001b[0m \u001b[1m1s\u001b[0m 3ms/step - accuracy: 0.9352 - loss: 0.1698 - val_accuracy: 0.9393 - val_loss: 0.1475\n",
      "Epoch 15/50\n",
      "\u001b[1m441/441\u001b[0m \u001b[32m━━━━━━━━━━━━━━━━━━━━\u001b[0m\u001b[37m\u001b[0m \u001b[1m1s\u001b[0m 3ms/step - accuracy: 0.9333 - loss: 0.1702 - val_accuracy: 0.9396 - val_loss: 0.1464\n",
      "Epoch 16/50\n",
      "\u001b[1m441/441\u001b[0m \u001b[32m━━━━━━━━━━━━━━━━━━━━\u001b[0m\u001b[37m\u001b[0m \u001b[1m1s\u001b[0m 3ms/step - accuracy: 0.9378 - loss: 0.1625 - val_accuracy: 0.9413 - val_loss: 0.1462\n",
      "Epoch 17/50\n",
      "\u001b[1m441/441\u001b[0m \u001b[32m━━━━━━━━━━━━━━━━━━━━\u001b[0m\u001b[37m\u001b[0m \u001b[1m2s\u001b[0m 3ms/step - accuracy: 0.9364 - loss: 0.1706 - val_accuracy: 0.9413 - val_loss: 0.1419\n",
      "Epoch 18/50\n",
      "\u001b[1m441/441\u001b[0m \u001b[32m━━━━━━━━━━━━━━━━━━━━\u001b[0m\u001b[37m\u001b[0m \u001b[1m2s\u001b[0m 4ms/step - accuracy: 0.9378 - loss: 0.1657 - val_accuracy: 0.9405 - val_loss: 0.1439\n",
      "Epoch 19/50\n",
      "\u001b[1m441/441\u001b[0m \u001b[32m━━━━━━━━━━━━━━━━━━━━\u001b[0m\u001b[37m\u001b[0m \u001b[1m3s\u001b[0m 3ms/step - accuracy: 0.9354 - loss: 0.1667 - val_accuracy: 0.9439 - val_loss: 0.1423\n",
      "Epoch 20/50\n",
      "\u001b[1m441/441\u001b[0m \u001b[32m━━━━━━━━━━━━━━━━━━━━\u001b[0m\u001b[37m\u001b[0m \u001b[1m1s\u001b[0m 3ms/step - accuracy: 0.9356 - loss: 0.1613 - val_accuracy: 0.9427 - val_loss: 0.1446\n",
      "Epoch 21/50\n",
      "\u001b[1m441/441\u001b[0m \u001b[32m━━━━━━━━━━━━━━━━━━━━\u001b[0m\u001b[37m\u001b[0m \u001b[1m1s\u001b[0m 3ms/step - accuracy: 0.9331 - loss: 0.1714 - val_accuracy: 0.9382 - val_loss: 0.1454\n",
      "Epoch 22/50\n",
      "\u001b[1m441/441\u001b[0m \u001b[32m━━━━━━━━━━━━━━━━━━━━\u001b[0m\u001b[37m\u001b[0m \u001b[1m2s\u001b[0m 3ms/step - accuracy: 0.9340 - loss: 0.1679 - val_accuracy: 0.9439 - val_loss: 0.1433\n"
     ]
    }
   ],
   "source": [
    "from keras.callbacks import EarlyStopping\n",
    "\n",
    "early_stopping = EarlyStopping(monitor='val_loss', patience=5, restore_best_weights=True)\n",
    "history = model.fit(\n",
    "    X_train_normalized, y_train_encoded,\n",
    "    validation_data=(X_test_normalized, y_test_encoded),\n",
    "    epochs=50, batch_size=32, callbacks=[early_stopping], verbose=1\n",
    ")"
   ]
  },
  {
   "cell_type": "markdown",
   "metadata": {},
   "source": [
    "### Visualize Trianing Process"
   ]
  },
  {
   "cell_type": "code",
   "execution_count": 23,
   "metadata": {},
   "outputs": [
    {
     "data": {
      "image/png": "[encoded data removed]",
      "text/plain": [
       "<Figure size 1200x400 with 2 Axes>"
      ]
     },
     "metadata": {},
     "output_type": "display_data"
    }
   ],
   "source": [
    "# Plot training history\n",
    "plt.figure(figsize=(12, 4))\n",
    "\n",
    "# Accuracy\n",
    "plt.subplot(1, 2, 1)\n",
    "plt.plot(history.history['accuracy'], label='Train Accuracy')\n",
    "plt.plot(history.history['val_accuracy'], label='Validation Accuracy')\n",
    "plt.xlabel('Epochs')\n",
    "plt.ylabel('Accuracy')\n",
    "plt.legend()\n",
    "plt.title('Model Accuracy')\n",
    "\n",
    "# Loss\n",
    "plt.subplot(1, 2, 2)\n",
    "plt.plot(history.history['loss'], label='Train Loss')\n",
    "plt.plot(history.history['val_loss'], label='Validation Loss')\n",
    "plt.xlabel('Epochs')\n",
    "plt.ylabel('Loss')\n",
    "plt.legend()\n",
    "plt.title('Model Loss')\n",
    "\n",
    "plt.show()"
   ]
  },
  {
   "cell_type": "markdown",
   "metadata": {},
   "source": [
    "### Deploying the Model"
   ]
  },
  {
   "cell_type": "code",
   "execution_count": 24,
   "metadata": {},
   "outputs": [
    {
     "name": "stderr",
     "output_type": "stream",
     "text": [
      "WARNING:absl:You are saving your model as an HDF5 file via `model.save()` or `keras.saving.save_model(model)`. This file format is considered legacy. We recommend using instead the native Keras format, e.g. `model.save('my_model.keras')` or `keras.saving.save_model(model, 'my_model.keras')`. \n"
     ]
    }
   ],
   "source": [
    "model.save('dysarthria_detection_model.h5')"
   ]
  },
  {
   "cell_type": "markdown",
   "metadata": {},
   "source": [
    "### Testing"
   ]
  },
  {
   "cell_type": "code",
   "execution_count": 25,
   "metadata": {},
   "outputs": [
    {
     "name": "stdout",
     "output_type": "stream",
     "text": [
      "\u001b[1m1/1\u001b[0m \u001b[32m━━━━━━━━━━━━━━━━━━━━\u001b[0m\u001b[37m\u001b[0m \u001b[1m0s\u001b[0m 35ms/step\n",
      "File Path: D://Abhinav//Test//SPR_Project//torgo//M_Dys\\wav_headMic_M02S01\\wav_headMic_M02S01_0082.wav\n",
      "True Label: 1\n",
      "Predicted Label: 1\n",
      "Prediction Probabilities: [[6.266644e-05 9.999373e-01]]\n",
      "✅ The model predicted correctly!\n"
     ]
    }
   ],
   "source": [
    "import random\n",
    "import numpy as np\n",
    "\n",
    "# Select a random sample from the DataFrame\n",
    "random_index = random.randint(0, len(data) - 1)\n",
    "sample = data.iloc[random_index]\n",
    "\n",
    "# Extract the file path and true label\n",
    "sample_file_path = sample['file_path']\n",
    "true_label = sample['label']  # Assuming 'label' is the true class\n",
    "\n",
    "# Preprocess the audio (e.g., extracting features, normalizing)\n",
    "# Assuming 'processed_audio' and 'mfcc_features' are already populated\n",
    "sample_features = sample['mfcc_features']  # Replace with appropriate column if necessary\n",
    "sample_features = np.array(sample_features)\n",
    "\n",
    "# Normalize the features (use the same method as during training)\n",
    "sample_features_normalized = sample_features / np.max(sample_features)\n",
    "\n",
    "# Reshape for the model (if necessary)\n",
    "sample_features_reshaped = sample_features_normalized.reshape(1, -1)  # Adjust shape based on your model input\n",
    "\n",
    "# Make a prediction\n",
    "prediction_probabilities = model.predict(sample_features_reshaped)\n",
    "predicted_label = np.argmax(prediction_probabilities, axis=1)[0]\n",
    "\n",
    "# Compare with the true label\n",
    "print(f\"File Path: {sample_file_path}\")\n",
    "print(f\"True Label: {true_label}\")\n",
    "print(f\"Predicted Label: {predicted_label}\")\n",
    "print(f\"Prediction Probabilities: {prediction_probabilities}\")\n",
    "\n",
    "# Check if the prediction matches the true label\n",
    "if true_label == predicted_label:\n",
    "    print(\"✅ The model predicted correctly!\")\n",
    "else:\n",
    "    print(\"❌ The model predicted incorrectly.\")"
   ]
  }
 ],
 "metadata": {
  "kernelspec": {
   "display_name": "Python 3",
   "language": "python",
   "name": "python3"
  },
  "language_info": {
   "codemirror_mode": {
    "name": "ipython",
    "version": 3
   },
   "file_extension": ".py",
   "mimetype": "text/x-python",
   "name": "python",
   "nbconvert_exporter": "python",
   "pygments_lexer": "ipython3",
   "version": "3.11.5"
  }
 },
 "nbformat": 4,
 "nbformat_minor": 2
}
